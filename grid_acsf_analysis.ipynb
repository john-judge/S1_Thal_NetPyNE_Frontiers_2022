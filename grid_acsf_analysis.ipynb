{
 "cells": [
  {
   "cell_type": "code",
   "execution_count": null,
   "id": "d6e80e6f",
   "metadata": {},
   "outputs": [],
   "source": [
    "import os\n",
    "import pickle\n",
    "import numpy as np\n",
    "import matplotlib.pyplot as plt\n",
    "import pandas as pd\n",
    "#plotly\n",
    "import plotly.io as pio"
   ]
  },
  {
   "cell_type": "code",
   "execution_count": null,
   "id": "7d097dbd",
   "metadata": {},
   "outputs": [],
   "source": [
    "grid_run = 19  # which run to analyze\n",
    "data_dir = f'C:/Users/jjudge3/Desktop/scratch/S1_Thal_NetPyNE_Frontiers_2022/grid/grid_run{grid_run}/S1_Thal_NetPyNE_Frontiers_2022/data/optuna_tuning/'\n"
   ]
  },
  {
   "cell_type": "code",
   "execution_count": null,
   "id": "7b89c59f",
   "metadata": {},
   "outputs": [],
   "source": [
    "# Create a lookup map grid_acsf_map[propVelocity] = traces\n",
    "# save to a pkl file so that it can be used during NBQX tuning\n",
    "grid_acsf_map = {}"
   ]
  }
 ],
 "metadata": {
  "kernelspec": {
   "display_name": "TSM-to-ZDA",
   "language": "python",
   "name": "python3"
  },
  "language_info": {
   "codemirror_mode": {
    "name": "ipython",
    "version": 3
   },
   "file_extension": ".py",
   "mimetype": "text/x-python",
   "name": "python",
   "nbconvert_exporter": "python",
   "pygments_lexer": "ipython3",
   "version": "3.8.18"
  }
 },
 "nbformat": 4,
 "nbformat_minor": 5
}
