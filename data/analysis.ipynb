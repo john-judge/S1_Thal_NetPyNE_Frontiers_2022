{
 "cells": [
  {
   "cell_type": "code",
   "execution_count": 1,
   "metadata": {},
   "outputs": [],
   "source": [
    "import matplotlib.pyplot as plt\n",
    "import numpy as np\n",
    "import pandas as pd\n",
    "\n",
    "# pickle\n",
    "import pickle"
   ]
  },
  {
   "cell_type": "code",
   "execution_count": null,
   "metadata": {},
   "outputs": [],
   "source": [
    "data_dir = 'C:/Users/jjudge3/Desktop/neuron docker/S1_Thal_NetPyNE_Frontiers_2022/data/v7_batch1/'\n",
    "pickle_file = data_dir + 'v7_batch1_0_0_data.pkl'\n",
    "\n",
    "# Load data\n",
    "with open(pickle_file, 'rb') as f:\n",
    "    data = pickle.load(f)\n",
    "    print(data.keys())"
   ]
  }
 ],
 "metadata": {
  "kernelspec": {
   "display_name": "TSM-to-ZDA",
   "language": "python",
   "name": "python3"
  },
  "language_info": {
   "codemirror_mode": {
    "name": "ipython",
    "version": 3
   },
   "file_extension": ".py",
   "mimetype": "text/x-python",
   "name": "python",
   "nbconvert_exporter": "python",
   "pygments_lexer": "ipython3",
   "version": "3.8.18"
  }
 },
 "nbformat": 4,
 "nbformat_minor": 2
}
